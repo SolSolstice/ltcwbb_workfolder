{
 "cells": [
  {
   "cell_type": "code",
   "execution_count": 1,
   "id": "c7306e08",
   "metadata": {},
   "outputs": [],
   "source": [
    "team1_runs = 6\n",
    "team2_runs = 4"
   ]
  },
  {
   "cell_type": "code",
   "execution_count": 15,
   "id": "cfb4ebcb",
   "metadata": {},
   "outputs": [
    {
     "data": {
      "text/plain": [
       "True"
      ]
     },
     "execution_count": 15,
     "metadata": {},
     "output_type": "execute_result"
    }
   ],
   "source": [
    "team1_won = team1_runs > team2_runs\n",
    "team2_won = team1_runs < team2_runs\n",
    "teams_tied = team1_runs == team2_runs\n",
    "teams_did_not_tie = team1_runs != team2_runs\n",
    "\n",
    "type(team1_won)\n",
    "teams_did_not_tie"
   ]
  },
  {
   "cell_type": "code",
   "execution_count": 16,
   "id": "42957a3a",
   "metadata": {},
   "outputs": [],
   "source": [
    "shootout = (team1_runs > 8) and (team2_runs > 8)\n",
    "at_least_one_good_team = (team1_runs > 8) or (team2_runs > 8 )\n",
    "pitching_duel = not ((team1_runs > 2 ) or (team2_runs > 2)) \n",
    "p_d = (team1_runs < 1 or team2_runs < 1)  # ^ same as above\n",
    "meh = not (shootout or at_least_one_good_team or pitching_duel)"
   ]
  },
  {
   "cell_type": "code",
   "execution_count": 19,
   "id": "e1ff8ff6",
   "metadata": {},
   "outputs": [
    {
     "name": "stdout",
     "output_type": "stream",
     "text": [
      "Team 1 won!\n"
     ]
    }
   ],
   "source": [
    "if team1_won:\n",
    "    message = \"Team 1 won!\"\n",
    "elif team2_won: \n",
    "    message = \"Team 2 won!\"\n",
    "else: \n",
    "    message = \"It was a tie\"\n",
    "print (message)"
   ]
  },
  {
   "cell_type": "code",
   "execution_count": null,
   "id": "04d574c7",
   "metadata": {},
   "outputs": [],
   "source": [
    "# =============== Lists ==========================="
   ]
  },
  {
   "cell_type": "code",
   "execution_count": 20,
   "id": "0df6a211",
   "metadata": {},
   "outputs": [],
   "source": [
    "roster_list = ['clayton kershaw', 'mookie betts', 'cody bellinger']\n"
   ]
  },
  {
   "cell_type": "code",
   "execution_count": 29,
   "id": "b3b8cc16",
   "metadata": {},
   "outputs": [
    {
     "name": "stdout",
     "output_type": "stream",
     "text": [
      "clayton kershaw\n",
      "\n",
      "['clayton kershaw', 'mookie betts']\n",
      "\n",
      "mookie betts\n"
     ]
    }
   ],
   "source": [
    "print(roster_list[0])\n",
    "print()\n",
    "print (roster_list[0:2])\n",
    "print()\n",
    "print(roster_list[-2])"
   ]
  },
  {
   "cell_type": "code",
   "execution_count": 30,
   "id": "f7b8f4e2",
   "metadata": {},
   "outputs": [],
   "source": [
    "roster_dict = {'P': 'clayton kershaw',\n",
    "               'RF': 'mookie betts',\n",
    "               'CF': 'cody bellinger'}"
   ]
  },
  {
   "cell_type": "code",
   "execution_count": 33,
   "id": "510d49cb",
   "metadata": {},
   "outputs": [
    {
     "data": {
      "text/plain": [
       "'mookie betts'"
      ]
     },
     "execution_count": 33,
     "metadata": {},
     "output_type": "execute_result"
    }
   ],
   "source": [
    "roster_dict['RF']\n"
   ]
  },
  {
   "cell_type": "code",
   "execution_count": 35,
   "id": "d664b183",
   "metadata": {},
   "outputs": [
    {
     "data": {
      "text/plain": [
       "'max muncy'"
      ]
     },
     "execution_count": 35,
     "metadata": {},
     "output_type": "execute_result"
    }
   ],
   "source": [
    "# add to dictionary \n",
    "roster_dict['1b'] = 'max muncy'\n",
    "roster_dict['1b']"
   ]
  },
  {
   "cell_type": "code",
   "execution_count": 55,
   "id": "318d6600",
   "metadata": {},
   "outputs": [],
   "source": [
    "roster_list = ['clayton kershaw', 'mookie betts', 'cody bellinger']"
   ]
  },
  {
   "cell_type": "code",
   "execution_count": 40,
   "id": "583f62c9",
   "metadata": {},
   "outputs": [
    {
     "name": "stdout",
     "output_type": "stream",
     "text": [
      "['Clayton Kershaw', '', '']\n",
      "['Clayton Kershaw', 'Mookie Betts', '']\n",
      "['Clayton Kershaw', 'Mookie Betts', 'Cody Bellinger']\n"
     ]
    }
   ],
   "source": [
    "roster_list_upper = ['', '' , '' ]\n",
    "# i is used to keep track of our position on the list\n",
    "i = 0 \n",
    "for player in roster_list:\n",
    "    roster_list_upper[i] = player.title()\n",
    "    i = i + 1\n",
    "    # tells loop to inciment i by 1 so that we're working on the correct spot  next time we go thru\n",
    "    print (roster_list_upper)"
   ]
  },
  {
   "cell_type": "code",
   "execution_count": 53,
   "id": "808ef803",
   "metadata": {},
   "outputs": [],
   "source": [
    "roster_list_upper = ['', '' , '' ]\n"
   ]
  },
  {
   "cell_type": "code",
   "execution_count": 54,
   "id": "c519c6c0",
   "metadata": {},
   "outputs": [
    {
     "name": "stdout",
     "output_type": "stream",
     "text": [
      "['', '', '', 'Clayton Kershaw', 'Mookie Betts', 'Cody Bellinger']\n"
     ]
    }
   ],
   "source": [
    "# without using i & i =+ 1\n",
    "\n",
    "for player in roster_list:\n",
    "    roster_list_upper.append(player.title())\n",
    "\n",
    "print (roster_list_upper)"
   ]
  },
  {
   "cell_type": "code",
   "execution_count": 59,
   "id": "56601d0d",
   "metadata": {},
   "outputs": [
    {
     "data": {
      "text/plain": [
       "['Clayton Kershaw', 'Mookie Betts', 'Cody Bellinger']"
      ]
     },
     "execution_count": 59,
     "metadata": {},
     "output_type": "execute_result"
    }
   ],
   "source": [
    "# list comprehensions \n",
    "\n",
    "roster_list_proper = [x.title() for x in roster_list]\n",
    "roster_list_proper\n",
    "\n",
    "# all list comprehensions structured: [A for B in C ]\n",
    "    # C -> the list youre iterating over\n",
    "    # B -> control variable \n",
    "    # A -> specifies exactly what you want to do to each item in list"
   ]
  },
  {
   "cell_type": "code",
   "execution_count": null,
   "id": "8e68f8f5",
   "metadata": {},
   "outputs": [],
   "source": []
  }
 ],
 "metadata": {
  "kernelspec": {
   "display_name": "Python 3 (ipykernel)",
   "language": "python",
   "name": "python3"
  },
  "language_info": {
   "codemirror_mode": {
    "name": "ipython",
    "version": 3
   },
   "file_extension": ".py",
   "mimetype": "text/x-python",
   "name": "python",
   "nbconvert_exporter": "python",
   "pygments_lexer": "ipython3",
   "version": "3.9.13"
  }
 },
 "nbformat": 4,
 "nbformat_minor": 5
}
