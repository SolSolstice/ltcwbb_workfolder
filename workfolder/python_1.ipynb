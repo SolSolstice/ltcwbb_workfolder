{
 "cells": [
  {
   "cell_type": "code",
   "execution_count": 2,
   "id": "c7306e08",
   "metadata": {},
   "outputs": [],
   "source": [
    "team1_runs = 6\n",
    "team2_runs = 4"
   ]
  },
  {
   "cell_type": "code",
   "execution_count": 3,
   "id": "cfb4ebcb",
   "metadata": {},
   "outputs": [
    {
     "data": {
      "text/plain": [
       "True"
      ]
     },
     "execution_count": 3,
     "metadata": {},
     "output_type": "execute_result"
    }
   ],
   "source": [
    "team1_won = team1_runs > team2_runs\n",
    "team2_won = team1_runs < team2_runs\n",
    "teams_tied = team1_runs == team2_runs\n",
    "teams_did_not_tie = team1_runs != team2_runs\n",
    "\n",
    "type(team1_won)\n",
    "teams_did_not_tie"
   ]
  },
  {
   "cell_type": "code",
   "execution_count": 4,
   "id": "42957a3a",
   "metadata": {},
   "outputs": [],
   "source": [
    "shootout = (team1_runs > 8) and (team2_runs > 8)\n",
    "at_least_one_good_team = (team1_runs > 8) or (team2_runs > 8 )\n",
    "pitching_duel = not ((team1_runs > 2 ) or (team2_runs > 2)) \n",
    "p_d = (team1_runs < 1 or team2_runs < 1)  # ^ same as above\n",
    "meh = not (shootout or at_least_one_good_team or pitching_duel)"
   ]
  },
  {
   "cell_type": "code",
   "execution_count": 5,
   "id": "e1ff8ff6",
   "metadata": {},
   "outputs": [
    {
     "name": "stdout",
     "output_type": "stream",
     "text": [
      "Team 1 won!\n"
     ]
    }
   ],
   "source": [
    "if team1_won:\n",
    "    message = \"Team 1 won!\"\n",
    "elif team2_won: \n",
    "    message = \"Team 2 won!\"\n",
    "else: \n",
    "    message = \"It was a tie\"\n",
    "print (message)"
   ]
  },
  {
   "cell_type": "code",
   "execution_count": 6,
   "id": "04d574c7",
   "metadata": {},
   "outputs": [],
   "source": [
    "# =============== Lists ==========================="
   ]
  },
  {
   "cell_type": "code",
   "execution_count": 7,
   "id": "0df6a211",
   "metadata": {},
   "outputs": [],
   "source": [
    "roster_list = ['clayton kershaw', 'mookie betts', 'cody bellinger']\n"
   ]
  },
  {
   "cell_type": "code",
   "execution_count": 8,
   "id": "b3b8cc16",
   "metadata": {},
   "outputs": [
    {
     "name": "stdout",
     "output_type": "stream",
     "text": [
      "clayton kershaw\n",
      "\n",
      "['clayton kershaw', 'mookie betts']\n",
      "\n",
      "mookie betts\n"
     ]
    }
   ],
   "source": [
    "print(roster_list[0])\n",
    "print()\n",
    "print (roster_list[0:2])\n",
    "print()\n",
    "print(roster_list[-2])"
   ]
  },
  {
   "cell_type": "code",
   "execution_count": 9,
   "id": "f7b8f4e2",
   "metadata": {},
   "outputs": [],
   "source": [
    "roster_dict = {'P': 'clayton kershaw',\n",
    "               'RF': 'mookie betts',\n",
    "               'CF': 'cody bellinger'}"
   ]
  },
  {
   "cell_type": "code",
   "execution_count": 10,
   "id": "510d49cb",
   "metadata": {},
   "outputs": [
    {
     "data": {
      "text/plain": [
       "'mookie betts'"
      ]
     },
     "execution_count": 10,
     "metadata": {},
     "output_type": "execute_result"
    }
   ],
   "source": [
    "roster_dict['RF']\n"
   ]
  },
  {
   "cell_type": "code",
   "execution_count": 11,
   "id": "d664b183",
   "metadata": {},
   "outputs": [
    {
     "data": {
      "text/plain": [
       "'max muncy'"
      ]
     },
     "execution_count": 11,
     "metadata": {},
     "output_type": "execute_result"
    }
   ],
   "source": [
    "# add to dictionary \n",
    "roster_dict['1b'] = 'max muncy'\n",
    "roster_dict['1b']"
   ]
  },
  {
   "cell_type": "code",
   "execution_count": 12,
   "id": "318d6600",
   "metadata": {},
   "outputs": [],
   "source": [
    "roster_list = ['clayton kershaw', 'mookie betts', 'cody bellinger']"
   ]
  },
  {
   "cell_type": "code",
   "execution_count": 13,
   "id": "583f62c9",
   "metadata": {},
   "outputs": [
    {
     "name": "stdout",
     "output_type": "stream",
     "text": [
      "['Clayton Kershaw', '', '']\n",
      "['Clayton Kershaw', 'Mookie Betts', '']\n",
      "['Clayton Kershaw', 'Mookie Betts', 'Cody Bellinger']\n"
     ]
    }
   ],
   "source": [
    "roster_list_upper = ['', '' , '' ]\n",
    "# i is used to keep track of our position on the list\n",
    "i = 0 \n",
    "for player in roster_list:\n",
    "    roster_list_upper[i] = player.title()\n",
    "    i = i + 1\n",
    "    # tells loop to inciment i by 1 so that we're working on the correct spot  next time we go thru\n",
    "    print (roster_list_upper)"
   ]
  },
  {
   "cell_type": "code",
   "execution_count": 14,
   "id": "808ef803",
   "metadata": {},
   "outputs": [],
   "source": [
    "roster_list_upper = ['', '' , '' ]\n"
   ]
  },
  {
   "cell_type": "code",
   "execution_count": 15,
   "id": "c519c6c0",
   "metadata": {},
   "outputs": [
    {
     "name": "stdout",
     "output_type": "stream",
     "text": [
      "['', '', '', 'Clayton Kershaw', 'Mookie Betts', 'Cody Bellinger']\n"
     ]
    }
   ],
   "source": [
    "# without using i & i =+ 1\n",
    "\n",
    "for player in roster_list:\n",
    "    roster_list_upper.append(player.title())\n",
    "\n",
    "print (roster_list_upper)"
   ]
  },
  {
   "cell_type": "code",
   "execution_count": 16,
   "id": "56601d0d",
   "metadata": {},
   "outputs": [
    {
     "data": {
      "text/plain": [
       "['Clayton Kershaw', 'Mookie Betts', 'Cody Bellinger']"
      ]
     },
     "execution_count": 16,
     "metadata": {},
     "output_type": "execute_result"
    }
   ],
   "source": [
    "# list comprehensions \n",
    "\n",
    "roster_list_proper = [x.title() for x in roster_list]\n",
    "roster_list_proper\n",
    "\n",
    "# all list comprehensions structured: [A for B in C ]\n",
    "    # C -> the list youre iterating over\n",
    "    # B -> control variable \n",
    "    # A -> specifies exactly what you want to do to each item in list"
   ]
  },
  {
   "cell_type": "code",
   "execution_count": 19,
   "id": "8e68f8f5",
   "metadata": {},
   "outputs": [
    {
     "data": {
      "text/plain": [
       "['kershaw', 'betts', 'bellinger']"
      ]
     },
     "execution_count": 19,
     "metadata": {},
     "output_type": "execute_result"
    }
   ],
   "source": [
    "roster_last_names = [full_name.split(' ')[1] for full_name in roster_list]\n",
    "roster_last_names\n",
    "# list comprehension -> [a for b in c]\n",
    "# a = full_name.split(' ')[1] \n",
    "# b = full_name\n",
    "# c = roster_list"
   ]
  },
  {
   "cell_type": "code",
   "execution_count": 23,
   "id": "741890e5",
   "metadata": {},
   "outputs": [
    {
     "data": {
      "text/plain": [
       "'copello'"
      ]
     },
     "execution_count": 23,
     "metadata": {},
     "output_type": "execute_result"
    }
   ],
   "source": [
    "full_name = 'matthew copello'\n",
    "full_name.split(' ')\n",
    "full_name.split(' ')[1]\n",
    "# split is a string method that returns a list of substrings "
   ]
  },
  {
   "cell_type": "code",
   "execution_count": 26,
   "id": "390e4f53",
   "metadata": {},
   "outputs": [
    {
     "data": {
      "text/plain": [
       "['clayton kershaw', 'cody bellinger']"
      ]
     },
     "execution_count": 26,
     "metadata": {},
     "output_type": "execute_result"
    }
   ],
   "source": [
    "# filtering \n",
    "roster_c_only = [x for x in roster_list if x.startswith('c')]\n",
    "roster_c_only"
   ]
  },
  {
   "cell_type": "code",
   "execution_count": 27,
   "id": "54f674f1",
   "metadata": {},
   "outputs": [],
   "source": [
    "# can also perform comprehensions on dicts \n",
    "salary_per_player = {\n",
    "    'clayton kershaw': 31000000,\n",
    "    'mookie betts': 27000000,\n",
    "    'cody bellinger': 11500000}"
   ]
  },
  {
   "cell_type": "code",
   "execution_count": 29,
   "id": "f0ea3666",
   "metadata": {},
   "outputs": [
    {
     "data": {
      "text/plain": [
       "{'CLAYTON KERSHAW': 31.0, 'MOOKIE BETTS': 27.0, 'CODY BELLINGER': 11.5}"
      ]
     },
     "execution_count": 29,
     "metadata": {},
     "output_type": "execute_result"
    }
   ],
   "source": [
    "salary_m_per_upper_player = {name.upper(): salary/1000000 for name, salary in salary_per_player.items()}\n",
    "salary_m_per_upper_player"
   ]
  },
  {
   "cell_type": "code",
   "execution_count": 39,
   "id": "df4432a3",
   "metadata": {},
   "outputs": [
    {
     "data": {
      "text/plain": [
       "69500000"
      ]
     },
     "execution_count": 39,
     "metadata": {},
     "output_type": "execute_result"
    }
   ],
   "source": [
    "sum([salary for _, salary in salary_per_player.items()])"
   ]
  },
  {
   "cell_type": "code",
   "execution_count": 48,
   "id": "d99cc579",
   "metadata": {},
   "outputs": [],
   "source": [
    "# Functionsss\n",
    "\n",
    "def obp(atbats = 0, hits=0, walks=0, hit_by_pitch=0, sac_flies=0): # can add default values\n",
    "\n",
    "    '''\n",
    "    this function takes number of hits, walks, atbats, hit by pitch, and sacrafice flies and \n",
    "    returns on base percentage\n",
    "    '''\n",
    "    return (hits + walks + hit_by_pitch)/(atbats + walks + hit_by_pitch + sac_flies)"
   ]
  },
  {
   "cell_type": "code",
   "execution_count": 49,
   "id": "2431efef",
   "metadata": {},
   "outputs": [
    {
     "data": {
      "text/plain": [
       "0.42857142857142855"
      ]
     },
     "execution_count": 49,
     "metadata": {},
     "output_type": "execute_result"
    }
   ],
   "source": [
    "obp(5,1,2,0,0)"
   ]
  },
  {
   "cell_type": "code",
   "execution_count": 51,
   "id": "09957ec9",
   "metadata": {},
   "outputs": [],
   "source": [
    "obp?"
   ]
  },
  {
   "cell_type": "code",
   "execution_count": null,
   "id": "9a705ba1",
   "metadata": {},
   "outputs": [],
   "source": []
  }
 ],
 "metadata": {
  "kernelspec": {
   "display_name": "Python 3 (ipykernel)",
   "language": "python",
   "name": "python3"
  },
  "language_info": {
   "codemirror_mode": {
    "name": "ipython",
    "version": 3
   },
   "file_extension": ".py",
   "mimetype": "text/x-python",
   "name": "python",
   "nbconvert_exporter": "python",
   "pygments_lexer": "ipython3",
   "version": "3.9.13"
  }
 },
 "nbformat": 4,
 "nbformat_minor": 5
}
