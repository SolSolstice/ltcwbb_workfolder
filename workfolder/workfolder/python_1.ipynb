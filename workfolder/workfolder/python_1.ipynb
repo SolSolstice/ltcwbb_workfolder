{
 "cells": [
  {
   "cell_type": "code",
   "execution_count": 1,
   "id": "c7306e08",
   "metadata": {},
   "outputs": [],
   "source": [
    "team1_runs = 6\n",
    "team2_runs = 4"
   ]
  },
  {
   "cell_type": "code",
   "execution_count": 2,
   "id": "cfb4ebcb",
   "metadata": {},
   "outputs": [
    {
     "data": {
      "text/plain": [
       "True"
      ]
     },
     "execution_count": 2,
     "metadata": {},
     "output_type": "execute_result"
    }
   ],
   "source": [
    "team1_won = team1_runs > team2_runs\n",
    "team2_won = team1_runs < team2_runs\n",
    "teams_tied = team1_runs == team2_runs\n",
    "teams_did_not_tie = team1_runs != team2_runs\n",
    "\n",
    "type(team1_won)\n",
    "teams_did_not_tie"
   ]
  },
  {
   "cell_type": "code",
   "execution_count": 3,
   "id": "42957a3a",
   "metadata": {},
   "outputs": [],
   "source": [
    "shootout = (team1_runs > 8) and (team2_runs > 8)\n",
    "at_least_one_good_team = (team1_runs > 8) or (team2_runs > 8 )\n",
    "pitching_duel = not ((team1_runs > 2 ) or (team2_runs > 2)) \n",
    "p_d = (team1_runs < 1 or team2_runs < 1)  # ^ same as above\n",
    "meh = not (shootout or at_least_one_good_team or pitching_duel)"
   ]
  },
  {
   "cell_type": "code",
   "execution_count": 4,
   "id": "e1ff8ff6",
   "metadata": {},
   "outputs": [
    {
     "name": "stdout",
     "output_type": "stream",
     "text": [
      "Team 1 won!\n"
     ]
    }
   ],
   "source": [
    "if team1_won:\n",
    "    message = \"Team 1 won!\"\n",
    "elif team2_won: \n",
    "    message = \"Team 2 won!\"\n",
    "else: \n",
    "    message = \"It was a tie\"\n",
    "print (message)"
   ]
  },
  {
   "cell_type": "code",
   "execution_count": 5,
   "id": "04d574c7",
   "metadata": {},
   "outputs": [],
   "source": [
    "# =============== Lists ==========================="
   ]
  },
  {
   "cell_type": "code",
   "execution_count": 6,
   "id": "0df6a211",
   "metadata": {},
   "outputs": [],
   "source": [
    "roster_list = ['clayton kershaw', 'mookie betts', 'cody bellinger']\n"
   ]
  },
  {
   "cell_type": "code",
   "execution_count": 7,
   "id": "b3b8cc16",
   "metadata": {},
   "outputs": [
    {
     "name": "stdout",
     "output_type": "stream",
     "text": [
      "clayton kershaw\n",
      "\n",
      "['clayton kershaw', 'mookie betts']\n",
      "\n",
      "mookie betts\n"
     ]
    }
   ],
   "source": [
    "print(roster_list[0])\n",
    "print()\n",
    "print (roster_list[0:2])\n",
    "print()\n",
    "print(roster_list[-2])"
   ]
  },
  {
   "cell_type": "code",
   "execution_count": 8,
   "id": "f7b8f4e2",
   "metadata": {},
   "outputs": [],
   "source": [
    "roster_dict = {'P': 'clayton kershaw',\n",
    "               'RF': 'mookie betts',\n",
    "               'CF': 'cody bellinger'}"
   ]
  },
  {
   "cell_type": "code",
   "execution_count": 9,
   "id": "510d49cb",
   "metadata": {},
   "outputs": [
    {
     "data": {
      "text/plain": [
       "'mookie betts'"
      ]
     },
     "execution_count": 9,
     "metadata": {},
     "output_type": "execute_result"
    }
   ],
   "source": [
    "roster_dict['RF']\n"
   ]
  },
  {
   "cell_type": "code",
   "execution_count": 10,
   "id": "d664b183",
   "metadata": {},
   "outputs": [
    {
     "data": {
      "text/plain": [
       "'max muncy'"
      ]
     },
     "execution_count": 10,
     "metadata": {},
     "output_type": "execute_result"
    }
   ],
   "source": [
    "# add to dictionary \n",
    "roster_dict['1b'] = 'max muncy'\n",
    "roster_dict['1b']"
   ]
  },
  {
   "cell_type": "code",
   "execution_count": 11,
   "id": "318d6600",
   "metadata": {},
   "outputs": [],
   "source": [
    "roster_list = ['clayton kershaw', 'mookie betts', 'cody bellinger']"
   ]
  },
  {
   "cell_type": "code",
   "execution_count": 12,
   "id": "583f62c9",
   "metadata": {},
   "outputs": [
    {
     "name": "stdout",
     "output_type": "stream",
     "text": [
      "['Clayton Kershaw', '', '']\n",
      "['Clayton Kershaw', 'Mookie Betts', '']\n",
      "['Clayton Kershaw', 'Mookie Betts', 'Cody Bellinger']\n"
     ]
    }
   ],
   "source": [
    "roster_list_upper = ['', '' , '' ]\n",
    "# i is used to keep track of our position on the list\n",
    "i = 0 \n",
    "for player in roster_list:\n",
    "    roster_list_upper[i] = player.title()\n",
    "    i = i + 1\n",
    "    # tells loop to inciment i by 1 so that we're working on the correct spot  next time we go thru\n",
    "    print (roster_list_upper)"
   ]
  },
  {
   "cell_type": "code",
   "execution_count": 13,
   "id": "808ef803",
   "metadata": {},
   "outputs": [],
   "source": [
    "roster_list_upper = ['', '' , '' ]\n"
   ]
  },
  {
   "cell_type": "code",
   "execution_count": 14,
   "id": "c519c6c0",
   "metadata": {},
   "outputs": [
    {
     "name": "stdout",
     "output_type": "stream",
     "text": [
      "['', '', '', 'Clayton Kershaw', 'Mookie Betts', 'Cody Bellinger']\n"
     ]
    }
   ],
   "source": [
    "# without using i & i =+ 1\n",
    "\n",
    "for player in roster_list:\n",
    "    roster_list_upper.append(player.title())\n",
    "\n",
    "print (roster_list_upper)"
   ]
  },
  {
   "cell_type": "code",
   "execution_count": 15,
   "id": "56601d0d",
   "metadata": {},
   "outputs": [
    {
     "data": {
      "text/plain": [
       "['Clayton Kershaw', 'Mookie Betts', 'Cody Bellinger']"
      ]
     },
     "execution_count": 15,
     "metadata": {},
     "output_type": "execute_result"
    }
   ],
   "source": [
    "# list comprehensions \n",
    "\n",
    "roster_list_proper = [x.title() for x in roster_list]\n",
    "roster_list_proper\n",
    "\n",
    "# all list comprehensions structured: [A for B in C ]\n",
    "    # C -> the list youre iterating over\n",
    "    # B -> control variable \n",
    "    # A -> specifies exactly what you want to do to each item in list"
   ]
  },
  {
   "cell_type": "code",
   "execution_count": 16,
   "id": "8e68f8f5",
   "metadata": {},
   "outputs": [
    {
     "data": {
      "text/plain": [
       "['kershaw', 'betts', 'bellinger']"
      ]
     },
     "execution_count": 16,
     "metadata": {},
     "output_type": "execute_result"
    }
   ],
   "source": [
    "roster_last_names = [full_name.split(' ')[1] for full_name in roster_list]\n",
    "roster_last_names\n",
    "# list comprehension -> [a for b in c]\n",
    "# a = full_name.split(' ')[1] \n",
    "# b = full_name\n",
    "# c = roster_list"
   ]
  },
  {
   "cell_type": "code",
   "execution_count": 17,
   "id": "741890e5",
   "metadata": {},
   "outputs": [
    {
     "data": {
      "text/plain": [
       "'copello'"
      ]
     },
     "execution_count": 17,
     "metadata": {},
     "output_type": "execute_result"
    }
   ],
   "source": [
    "full_name = 'matthew copello'\n",
    "full_name.split(' ')\n",
    "full_name.split(' ')[1]\n",
    "# split is a string method that returns a list of substrings "
   ]
  },
  {
   "cell_type": "code",
   "execution_count": 18,
   "id": "390e4f53",
   "metadata": {},
   "outputs": [
    {
     "data": {
      "text/plain": [
       "['clayton kershaw', 'cody bellinger']"
      ]
     },
     "execution_count": 18,
     "metadata": {},
     "output_type": "execute_result"
    }
   ],
   "source": [
    "# filtering \n",
    "roster_c_only = [x for x in roster_list if x.startswith('c')]\n",
    "roster_c_only"
   ]
  },
  {
   "cell_type": "code",
   "execution_count": 19,
   "id": "54f674f1",
   "metadata": {},
   "outputs": [],
   "source": [
    "# can also perform comprehensions on dicts \n",
    "salary_per_player = {\n",
    "    'clayton kershaw': 31000000,\n",
    "    'mookie betts': 27000000,\n",
    "    'cody bellinger': 11500000}"
   ]
  },
  {
   "cell_type": "code",
   "execution_count": 20,
   "id": "f0ea3666",
   "metadata": {},
   "outputs": [
    {
     "data": {
      "text/plain": [
       "{'CLAYTON KERSHAW': 31.0, 'MOOKIE BETTS': 27.0, 'CODY BELLINGER': 11.5}"
      ]
     },
     "execution_count": 20,
     "metadata": {},
     "output_type": "execute_result"
    }
   ],
   "source": [
    "salary_m_per_upper_player = {name.upper(): salary/1000000 for name, salary in salary_per_player.items()}\n",
    "salary_m_per_upper_player"
   ]
  },
  {
   "cell_type": "code",
   "execution_count": 21,
   "id": "df4432a3",
   "metadata": {},
   "outputs": [
    {
     "data": {
      "text/plain": [
       "69500000"
      ]
     },
     "execution_count": 21,
     "metadata": {},
     "output_type": "execute_result"
    }
   ],
   "source": [
    "sum([salary for _, salary in salary_per_player.items()])"
   ]
  },
  {
   "cell_type": "code",
   "execution_count": 22,
   "id": "d99cc579",
   "metadata": {},
   "outputs": [],
   "source": [
    "# Functionsss\n",
    "\n",
    "def obp(atbats = 0, hits=0, walks=0, hit_by_pitch=0, sac_flies=0): # can add default values\n",
    "\n",
    "    '''\n",
    "    this function takes number of hits, walks, atbats, hit by pitch, and sacrafice flies and \n",
    "    returns on base percentage\n",
    "    '''\n",
    "    return (hits + walks + hit_by_pitch)/(atbats + walks + hit_by_pitch + sac_flies)"
   ]
  },
  {
   "cell_type": "code",
   "execution_count": 23,
   "id": "2431efef",
   "metadata": {},
   "outputs": [
    {
     "data": {
      "text/plain": [
       "0.42857142857142855"
      ]
     },
     "execution_count": 23,
     "metadata": {},
     "output_type": "execute_result"
    }
   ],
   "source": [
    "obp(5,1,2,0,0)"
   ]
  },
  {
   "cell_type": "code",
   "execution_count": 24,
   "id": "09957ec9",
   "metadata": {},
   "outputs": [],
   "source": [
    "obp?"
   ]
  },
  {
   "cell_type": "code",
   "execution_count": 27,
   "id": "9a705ba1",
   "metadata": {},
   "outputs": [],
   "source": [
    "#example of how python functions can take other functions as arguments\n",
    "\n",
    "def do_to_list(working_list,working_fn,desc):\n",
    "    ''' \n",
    "    this function will take a list, a function that works on a list, and a description\n",
    "    it applies the function to the list, then returns the result along with description of a string\n",
    "    '''\n",
    "    value = working_fn(working_list)\n",
    "    return f'{desc} {value}'\n",
    "# now lets also make a function to use this on \n",
    "def last_elem_in_list(working_list):\n",
    "    return working_list[-1]\n",
    "# [-1] returns the end of the string \n",
    "# [-2] returns the 2nd to the end \n",
    "# etc ... "
   ]
  },
  {
   "cell_type": "code",
   "execution_count": 32,
   "id": "856351a2",
   "metadata": {},
   "outputs": [
    {
     "data": {
      "text/plain": [
       "'last element in your list: SS'"
      ]
     },
     "execution_count": 32,
     "metadata": {},
     "output_type": "execute_result"
    }
   ],
   "source": [
    "infield = ['1B','2B','3B','P','C','SS']\n",
    "\n",
    "do_to_list(infield,last_elem_in_list,\"last element in your list: \")\n",
    "'last element in your list: SS'"
   ]
  },
  {
   "cell_type": "code",
   "execution_count": 33,
   "id": "3d6b4c2a",
   "metadata": {},
   "outputs": [
    {
     "data": {
      "text/plain": [
       "'last element in your list: 8'"
      ]
     },
     "execution_count": 33,
     "metadata": {},
     "output_type": "execute_result"
    }
   ],
   "source": [
    "do_to_list([1,2,4,8], last_elem_in_list,\"last element in your list: \")\n",
    "'last element in your list: 8'"
   ]
  },
  {
   "cell_type": "code",
   "execution_count": 39,
   "id": "6f025f85",
   "metadata": {},
   "outputs": [
    {
     "data": {
      "text/plain": [
       "'length of your list: 6'"
      ]
     },
     "execution_count": 39,
     "metadata": {},
     "output_type": "execute_result"
    }
   ],
   "source": [
    "# def functions can also take built in functions as arguments\n",
    "do_to_list(infield,len,\"length of your list:\")\n",
    "'length of your list: 6'"
   ]
  },
  {
   "cell_type": "code",
   "execution_count": 41,
   "id": "6cb41e0c",
   "metadata": {},
   "outputs": [
    {
     "data": {
      "text/plain": [
       "'first element in your list times 3 is: 6'"
      ]
     },
     "execution_count": 41,
     "metadata": {},
     "output_type": "execute_result"
    }
   ],
   "source": [
    "# these are called anonymous or LAMBDA functions\n",
    "do_to_list([2,3,7,1.3,5],lambda x:3*x[0],\"first element in your list times 3 is:\")"
   ]
  },
  {
   "cell_type": "code",
   "execution_count": 67,
   "id": "d9f795b3",
   "metadata": {},
   "outputs": [],
   "source": [
    "import os "
   ]
  },
  {
   "cell_type": "code",
   "execution_count": 68,
   "id": "0b843196",
   "metadata": {},
   "outputs": [
    {
     "data": {
      "text/plain": [
       "16"
      ]
     },
     "execution_count": 68,
     "metadata": {},
     "output_type": "execute_result"
    }
   ],
   "source": [
    "#shows the number of coputer cores we current have available\n",
    "os.cpu_count()"
   ]
  },
  {
   "cell_type": "code",
   "execution_count": 48,
   "id": "3ae903e4",
   "metadata": {},
   "outputs": [],
   "source": [
    "def announce_pitch(player_name,pitch):\n",
    "    return(f'{player_name} throws a {pitch}')"
   ]
  },
  {
   "cell_type": "code",
   "execution_count": 49,
   "id": "2839dc4f",
   "metadata": {},
   "outputs": [],
   "source": [
    "player_name = 'Kershaw'\n",
    "pitch = 'Slider'"
   ]
  },
  {
   "cell_type": "code",
   "execution_count": 50,
   "id": "b4240164",
   "metadata": {},
   "outputs": [
    {
     "data": {
      "text/plain": [
       "'Kershaw throws a Slider'"
      ]
     },
     "execution_count": 50,
     "metadata": {},
     "output_type": "execute_result"
    }
   ],
   "source": [
    "announce_pitch(player_name,pitch)"
   ]
  },
  {
   "cell_type": "code",
   "execution_count": 53,
   "id": "66410674",
   "metadata": {},
   "outputs": [],
   "source": [
    "ex_string = 'Lol'"
   ]
  },
  {
   "cell_type": "code",
   "execution_count": 55,
   "id": "2507bc1d",
   "metadata": {},
   "outputs": [
    {
     "data": {
      "text/plain": [
       "False"
      ]
     },
     "execution_count": 55,
     "metadata": {},
     "output_type": "execute_result"
    }
   ],
   "source": [
    "ex_string.islower()\n",
    "#islower() returns a boolean checking the string for uppercase or lowercase characters"
   ]
  },
  {
   "cell_type": "code",
   "execution_count": 60,
   "id": "b2c6c54a",
   "metadata": {},
   "outputs": [],
   "source": [
    "def is_travisd(player_name):\n",
    "    return player_name.replace(\"'\",'').lower() == 'travis darnaud'"
   ]
  },
  {
   "cell_type": "code",
   "execution_count": 62,
   "id": "c2925908",
   "metadata": {},
   "outputs": [
    {
     "data": {
      "text/plain": [
       "True"
      ]
     },
     "execution_count": 62,
     "metadata": {},
     "output_type": "execute_result"
    }
   ],
   "source": [
    "player_name = \"Travis d'Arnaud\"\n",
    "is_travisd(player_name)"
   ]
  },
  {
   "cell_type": "code",
   "execution_count": 78,
   "id": "f8e95897",
   "metadata": {},
   "outputs": [],
   "source": [
    "\n",
    "def commentary(batt_avg):\n",
    "    if batt_avg >= 333:\n",
    "        return print(f'{batt_avg} is a good batting average')\n",
    "    else:\n",
    "        return print(f'{batt_avg} is not a good batting average')\n"
   ]
  },
  {
   "cell_type": "code",
   "execution_count": 79,
   "id": "67751f7a",
   "metadata": {},
   "outputs": [
    {
     "name": "stdout",
     "output_type": "stream",
     "text": [
      "380 is a good batting average\n"
     ]
    }
   ],
   "source": [
    "batt_avg = 380\n",
    "commentary(batt_avg)"
   ]
  },
  {
   "cell_type": "code",
   "execution_count": 86,
   "id": "eee9327a",
   "metadata": {},
   "outputs": [],
   "source": [
    "def commentary_plus(batt_avg):\n",
    "    if batt_avg < 1:\n",
    "        batt_avg = int(batt_avg*1000)\n",
    "    return commentary(batt_avg)"
   ]
  },
  {
   "cell_type": "code",
   "execution_count": 87,
   "id": "5dae6334",
   "metadata": {},
   "outputs": [
    {
     "name": "stdout",
     "output_type": "stream",
     "text": [
      "200 is not a good batting average\n"
     ]
    }
   ],
   "source": [
    "batt_avg = .380\n",
    "commentary_plus(.200)"
   ]
  },
  {
   "cell_type": "code",
   "execution_count": 111,
   "id": "fcdc7826",
   "metadata": {},
   "outputs": [
    {
     "name": "stdout",
     "output_type": "stream",
     "text": [
      "['clayton kershaw', 'cody bellinger']\n",
      "['clayton kershaw', 'cody bellinger']\n",
      "['clayton kershaw', 'cody bellinger']\n"
     ]
    }
   ],
   "source": [
    "# 3 ways to print list w/o mookie betts\n",
    "dodgers_roster = ['clayton kershaw','cody bellinger','mookie betts']\n",
    "for i in dodgers_roster:\n",
    "    modified_roster = dodgers_roster[0:2]\n",
    "print (modified_roster)\n",
    "\n",
    "modded_rost = dodgers_roster[0:2]\n",
    "print(modded_rost)\n",
    "\n",
    "print([i for i in dodgers_roster if i != 'mookie betts'])\n"
   ]
  },
  {
   "cell_type": "code",
   "execution_count": 121,
   "id": "4950220e",
   "metadata": {},
   "outputs": [
    {
     "ename": "TypeError",
     "evalue": "'str' object does not support item assignment",
     "output_type": "error",
     "traceback": [
      "\u001b[1;31m---------------------------------------------------------------------------\u001b[0m",
      "\u001b[1;31mTypeError\u001b[0m                                 Traceback (most recent call last)",
      "\u001b[1;32m~\\AppData\\Local\\Temp\\ipykernel_32940\\4144278040.py\u001b[0m in \u001b[0;36m<module>\u001b[1;34m\u001b[0m\n\u001b[0;32m      5\u001b[0m \u001b[1;33m\u001b[0m\u001b[0m\n\u001b[0;32m      6\u001b[0m \u001b[1;31m#1:\u001b[0m\u001b[1;33m\u001b[0m\u001b[1;33m\u001b[0m\u001b[0m\n\u001b[1;32m----> 7\u001b[1;33m \u001b[0mpitcher_info\u001b[0m \u001b[1;33m=\u001b[0m \u001b[0mpitcher_info\u001b[0m\u001b[1;33m[\u001b[0m\u001b[1;34m'starter'\u001b[0m\u001b[1;33m]\u001b[0m \u001b[1;33m=\u001b[0m \u001b[1;34m'Joe Kelly'\u001b[0m\u001b[1;33m\u001b[0m\u001b[1;33m\u001b[0m\u001b[0m\n\u001b[0m\u001b[0;32m      8\u001b[0m \u001b[1;33m\u001b[0m\u001b[0m\n",
      "\u001b[1;31mTypeError\u001b[0m: 'str' object does not support item assignment"
     ]
    }
   ],
   "source": [
    "# how would you change 'starter' to 'Joe Kelly'? \n",
    "# write a func toggle_throws that takes a dict like pitcher_info, turns 'throws_right' to the opposite \n",
    "# of whatever it is, & returns the updated settings dict \n",
    "pitcher_info = {'starter':'Kershaw','throws_right':False}\n",
    "\n",
    "#1:\n",
    "pitcher_info = pitcher_info['starter'] = 'Joe Kelly'\n",
    "\n"
   ]
  },
  {
   "cell_type": "code",
   "execution_count": 122,
   "id": "2d5ca3a7",
   "metadata": {},
   "outputs": [
    {
     "data": {
      "text/plain": [
       "'Joe Kelly'"
      ]
     },
     "execution_count": 122,
     "metadata": {},
     "output_type": "execute_result"
    }
   ],
   "source": [
    "#1:\n",
    "pitcher_info"
   ]
  },
  {
   "cell_type": "code",
   "execution_count": 123,
   "id": "d316bed1",
   "metadata": {},
   "outputs": [],
   "source": [
    "list_of_atbats = [500,410,618,288,236]\n",
    "def mapper(list_of_atbats,my_func):\n",
    "    return [my_func(x) for x in list_of_atbats]\n"
   ]
  },
  {
   "cell_type": "code",
   "execution_count": 124,
   "id": "9b5db166",
   "metadata": {},
   "outputs": [
    {
     "data": {
      "text/plain": [
       "[150, 123, 185, 86, 70]"
      ]
     },
     "execution_count": 124,
     "metadata": {},
     "output_type": "execute_result"
    }
   ],
   "source": [
    "mapper(list_of_atbats,lambda x: int(x*0.300))"
   ]
  },
  {
   "cell_type": "code",
   "execution_count": null,
   "id": "54053ea2",
   "metadata": {},
   "outputs": [],
   "source": []
  }
 ],
 "metadata": {
  "kernelspec": {
   "display_name": "Python 3 (ipykernel)",
   "language": "python",
   "name": "python3"
  },
  "language_info": {
   "codemirror_mode": {
    "name": "ipython",
    "version": 3
   },
   "file_extension": ".py",
   "mimetype": "text/x-python",
   "name": "python",
   "nbconvert_exporter": "python",
   "pygments_lexer": "ipython3",
   "version": "3.9.13"
  }
 },
 "nbformat": 4,
 "nbformat_minor": 5
}
